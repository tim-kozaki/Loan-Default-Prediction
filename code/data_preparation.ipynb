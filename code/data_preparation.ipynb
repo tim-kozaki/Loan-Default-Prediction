{
 "cells": [
  {
   "cell_type": "markdown",
   "id": "c5b21a97",
   "metadata": {},
   "source": [
    "## About the Data\n",
    "\n",
    "- Data is collected from 2016 to 2021.\n",
    "- Contains Loan & payment information.\n",
    "- The customer information is aggregated to ensure information is unidentifiable."
   ]
  },
  {
   "cell_type": "markdown",
   "id": "a5b68638",
   "metadata": {},
   "source": [
    "## Import Libraries"
   ]
  },
  {
   "cell_type": "code",
   "execution_count": 114,
   "id": "54816197",
   "metadata": {},
   "outputs": [],
   "source": [
    "import pandas as pd\n",
    "import numpy as np\n",
    "\n",
    "import seaborn as sns\n",
    "import matplotlib.pyplot as plt"
   ]
  },
  {
   "cell_type": "markdown",
   "id": "91177365",
   "metadata": {},
   "source": [
    "## Settings for Pandas"
   ]
  },
  {
   "cell_type": "code",
   "execution_count": 115,
   "id": "53464683",
   "metadata": {},
   "outputs": [],
   "source": [
    "# Sets column width to show full information\n",
    "pd.set_option('display.max_colwidth', None)\n",
    "pd.set_option('display.max_columns', None)\n",
    "\n",
    "# Sets describe function to show full numerical value\n",
    "pd.set_option('float_format', '{:f}'.format)"
   ]
  },
  {
   "cell_type": "markdown",
   "id": "b84c4a03",
   "metadata": {},
   "source": [
    "## Preparing dataframe\n",
    "- Read the data into a dataframe\n",
    "- Check for null values"
   ]
  },
  {
   "cell_type": "code",
   "execution_count": 116,
   "id": "09d86600",
   "metadata": {},
   "outputs": [
    {
     "data": {
      "text/html": [
       "<div>\n",
       "<style scoped>\n",
       "    .dataframe tbody tr th:only-of-type {\n",
       "        vertical-align: middle;\n",
       "    }\n",
       "\n",
       "    .dataframe tbody tr th {\n",
       "        vertical-align: top;\n",
       "    }\n",
       "\n",
       "    .dataframe thead th {\n",
       "        text-align: right;\n",
       "    }\n",
       "</style>\n",
       "<table border=\"1\" class=\"dataframe\">\n",
       "  <thead>\n",
       "    <tr style=\"text-align: right;\">\n",
       "      <th></th>\n",
       "      <th>ID</th>\n",
       "      <th>UEN Black Listed</th>\n",
       "      <th>SSIC</th>\n",
       "      <th>Industry</th>\n",
       "      <th>Loan ID</th>\n",
       "      <th>Product</th>\n",
       "      <th>Amount</th>\n",
       "      <th>Disbursal Amount</th>\n",
       "      <th>Insured</th>\n",
       "      <th>Disbursal Fee</th>\n",
       "      <th>Payment Amount</th>\n",
       "      <th>Due Date</th>\n",
       "      <th>Weekday</th>\n",
       "      <th>Day</th>\n",
       "      <th>Month</th>\n",
       "      <th>Year</th>\n",
       "      <th>Payment_Num</th>\n",
       "      <th>Defaulted</th>\n",
       "      <th>Is Paid</th>\n",
       "      <th>Loan Status</th>\n",
       "      <th>Funding Date</th>\n",
       "      <th>Expected First Payment Date</th>\n",
       "      <th>Interest Rate</th>\n",
       "      <th>Tenor</th>\n",
       "      <th>Status</th>\n",
       "      <th>Delinquent</th>\n",
       "      <th>Delinquent Amount</th>\n",
       "      <th>Date of First Delinquency</th>\n",
       "      <th>First Payment Date</th>\n",
       "    </tr>\n",
       "  </thead>\n",
       "  <tbody>\n",
       "    <tr>\n",
       "      <th>0</th>\n",
       "      <td>1000513</td>\n",
       "      <td>1</td>\n",
       "      <td>46900</td>\n",
       "      <td>Wholesale trade of a variety of goods without a dominant product</td>\n",
       "      <td>484</td>\n",
       "      <td>1</td>\n",
       "      <td>100000.000000</td>\n",
       "      <td>99000.000000</td>\n",
       "      <td>0</td>\n",
       "      <td>1000.000000</td>\n",
       "      <td>18166.670000</td>\n",
       "      <td>2016-09-04</td>\n",
       "      <td>7</td>\n",
       "      <td>4</td>\n",
       "      <td>9</td>\n",
       "      <td>2016</td>\n",
       "      <td>1</td>\n",
       "      <td>0</td>\n",
       "      <td>1</td>\n",
       "      <td>Repaid in Full</td>\n",
       "      <td>2016-03-04</td>\n",
       "      <td>2016-04-09</td>\n",
       "      <td>1.500000</td>\n",
       "      <td>6</td>\n",
       "      <td>Closed - Obligations met</td>\n",
       "      <td>0</td>\n",
       "      <td>0.000000</td>\n",
       "      <td>2016-08-04</td>\n",
       "      <td>2016-04-04</td>\n",
       "    </tr>\n",
       "    <tr>\n",
       "      <th>1</th>\n",
       "      <td>1000513</td>\n",
       "      <td>1</td>\n",
       "      <td>46900</td>\n",
       "      <td>Wholesale trade of a variety of goods without a dominant product</td>\n",
       "      <td>484</td>\n",
       "      <td>1</td>\n",
       "      <td>100000.000000</td>\n",
       "      <td>99000.000000</td>\n",
       "      <td>0</td>\n",
       "      <td>1000.000000</td>\n",
       "      <td>18166.670000</td>\n",
       "      <td>2016-08-04</td>\n",
       "      <td>4</td>\n",
       "      <td>4</td>\n",
       "      <td>8</td>\n",
       "      <td>2016</td>\n",
       "      <td>2</td>\n",
       "      <td>1</td>\n",
       "      <td>1</td>\n",
       "      <td>Repaid in Full</td>\n",
       "      <td>2016-03-04</td>\n",
       "      <td>2016-04-09</td>\n",
       "      <td>1.500000</td>\n",
       "      <td>6</td>\n",
       "      <td>Closed - Obligations met</td>\n",
       "      <td>0</td>\n",
       "      <td>0.000000</td>\n",
       "      <td>2016-08-04</td>\n",
       "      <td>2016-04-04</td>\n",
       "    </tr>\n",
       "    <tr>\n",
       "      <th>2</th>\n",
       "      <td>1000513</td>\n",
       "      <td>1</td>\n",
       "      <td>46900</td>\n",
       "      <td>Wholesale trade of a variety of goods without a dominant product</td>\n",
       "      <td>484</td>\n",
       "      <td>1</td>\n",
       "      <td>100000.000000</td>\n",
       "      <td>99000.000000</td>\n",
       "      <td>0</td>\n",
       "      <td>1000.000000</td>\n",
       "      <td>18166.670000</td>\n",
       "      <td>2016-07-04</td>\n",
       "      <td>1</td>\n",
       "      <td>4</td>\n",
       "      <td>7</td>\n",
       "      <td>2016</td>\n",
       "      <td>3</td>\n",
       "      <td>0</td>\n",
       "      <td>1</td>\n",
       "      <td>Repaid in Full</td>\n",
       "      <td>2016-03-04</td>\n",
       "      <td>2016-04-09</td>\n",
       "      <td>1.500000</td>\n",
       "      <td>6</td>\n",
       "      <td>Closed - Obligations met</td>\n",
       "      <td>0</td>\n",
       "      <td>0.000000</td>\n",
       "      <td>2016-08-04</td>\n",
       "      <td>2016-04-04</td>\n",
       "    </tr>\n",
       "    <tr>\n",
       "      <th>3</th>\n",
       "      <td>1000513</td>\n",
       "      <td>1</td>\n",
       "      <td>46900</td>\n",
       "      <td>Wholesale trade of a variety of goods without a dominant product</td>\n",
       "      <td>484</td>\n",
       "      <td>1</td>\n",
       "      <td>100000.000000</td>\n",
       "      <td>99000.000000</td>\n",
       "      <td>0</td>\n",
       "      <td>1000.000000</td>\n",
       "      <td>18166.670000</td>\n",
       "      <td>2016-06-04</td>\n",
       "      <td>6</td>\n",
       "      <td>4</td>\n",
       "      <td>6</td>\n",
       "      <td>2016</td>\n",
       "      <td>4</td>\n",
       "      <td>0</td>\n",
       "      <td>1</td>\n",
       "      <td>Repaid in Full</td>\n",
       "      <td>2016-03-04</td>\n",
       "      <td>2016-04-09</td>\n",
       "      <td>1.500000</td>\n",
       "      <td>6</td>\n",
       "      <td>Closed - Obligations met</td>\n",
       "      <td>0</td>\n",
       "      <td>0.000000</td>\n",
       "      <td>2016-08-04</td>\n",
       "      <td>2016-04-04</td>\n",
       "    </tr>\n",
       "    <tr>\n",
       "      <th>4</th>\n",
       "      <td>1000513</td>\n",
       "      <td>1</td>\n",
       "      <td>46900</td>\n",
       "      <td>Wholesale trade of a variety of goods without a dominant product</td>\n",
       "      <td>484</td>\n",
       "      <td>1</td>\n",
       "      <td>100000.000000</td>\n",
       "      <td>99000.000000</td>\n",
       "      <td>0</td>\n",
       "      <td>1000.000000</td>\n",
       "      <td>18166.670000</td>\n",
       "      <td>2016-05-04</td>\n",
       "      <td>3</td>\n",
       "      <td>4</td>\n",
       "      <td>5</td>\n",
       "      <td>2016</td>\n",
       "      <td>5</td>\n",
       "      <td>0</td>\n",
       "      <td>1</td>\n",
       "      <td>Repaid in Full</td>\n",
       "      <td>2016-03-04</td>\n",
       "      <td>2016-04-09</td>\n",
       "      <td>1.500000</td>\n",
       "      <td>6</td>\n",
       "      <td>Closed - Obligations met</td>\n",
       "      <td>0</td>\n",
       "      <td>0.000000</td>\n",
       "      <td>2016-08-04</td>\n",
       "      <td>2016-04-04</td>\n",
       "    </tr>\n",
       "  </tbody>\n",
       "</table>\n",
       "</div>"
      ],
      "text/plain": [
       "        ID  UEN Black Listed   SSIC  \\\n",
       "0  1000513                 1  46900   \n",
       "1  1000513                 1  46900   \n",
       "2  1000513                 1  46900   \n",
       "3  1000513                 1  46900   \n",
       "4  1000513                 1  46900   \n",
       "\n",
       "                                                           Industry  Loan ID  \\\n",
       "0  Wholesale trade of a variety of goods without a dominant product      484   \n",
       "1  Wholesale trade of a variety of goods without a dominant product      484   \n",
       "2  Wholesale trade of a variety of goods without a dominant product      484   \n",
       "3  Wholesale trade of a variety of goods without a dominant product      484   \n",
       "4  Wholesale trade of a variety of goods without a dominant product      484   \n",
       "\n",
       "   Product        Amount  Disbursal Amount  Insured  Disbursal Fee  \\\n",
       "0        1 100000.000000      99000.000000        0    1000.000000   \n",
       "1        1 100000.000000      99000.000000        0    1000.000000   \n",
       "2        1 100000.000000      99000.000000        0    1000.000000   \n",
       "3        1 100000.000000      99000.000000        0    1000.000000   \n",
       "4        1 100000.000000      99000.000000        0    1000.000000   \n",
       "\n",
       "   Payment Amount   Due Date  Weekday  Day  Month  Year  Payment_Num  \\\n",
       "0    18166.670000 2016-09-04        7    4      9  2016            1   \n",
       "1    18166.670000 2016-08-04        4    4      8  2016            2   \n",
       "2    18166.670000 2016-07-04        1    4      7  2016            3   \n",
       "3    18166.670000 2016-06-04        6    4      6  2016            4   \n",
       "4    18166.670000 2016-05-04        3    4      5  2016            5   \n",
       "\n",
       "   Defaulted  Is Paid     Loan Status Funding Date  \\\n",
       "0          0        1  Repaid in Full   2016-03-04   \n",
       "1          1        1  Repaid in Full   2016-03-04   \n",
       "2          0        1  Repaid in Full   2016-03-04   \n",
       "3          0        1  Repaid in Full   2016-03-04   \n",
       "4          0        1  Repaid in Full   2016-03-04   \n",
       "\n",
       "  Expected First Payment Date  Interest Rate  Tenor                    Status  \\\n",
       "0                  2016-04-09       1.500000      6  Closed - Obligations met   \n",
       "1                  2016-04-09       1.500000      6  Closed - Obligations met   \n",
       "2                  2016-04-09       1.500000      6  Closed - Obligations met   \n",
       "3                  2016-04-09       1.500000      6  Closed - Obligations met   \n",
       "4                  2016-04-09       1.500000      6  Closed - Obligations met   \n",
       "\n",
       "   Delinquent  Delinquent Amount Date of First Delinquency First Payment Date  \n",
       "0           0           0.000000                2016-08-04         2016-04-04  \n",
       "1           0           0.000000                2016-08-04         2016-04-04  \n",
       "2           0           0.000000                2016-08-04         2016-04-04  \n",
       "3           0           0.000000                2016-08-04         2016-04-04  \n",
       "4           0           0.000000                2016-08-04         2016-04-04  "
      ]
     },
     "execution_count": 116,
     "metadata": {},
     "output_type": "execute_result"
    }
   ],
   "source": [
    "# Read data into a dataframe\n",
    "df = pd.read_excel('../data/loan_data.xlsx')\n",
    "df.head()"
   ]
  },
  {
   "cell_type": "code",
   "execution_count": 117,
   "id": "070d3640",
   "metadata": {},
   "outputs": [
    {
     "name": "stdout",
     "output_type": "stream",
     "text": [
      "<class 'pandas.core.frame.DataFrame'>\n",
      "RangeIndex: 25597 entries, 0 to 25596\n",
      "Data columns (total 29 columns):\n",
      " #   Column                       Non-Null Count  Dtype         \n",
      "---  ------                       --------------  -----         \n",
      " 0   ID                           25597 non-null  int64         \n",
      " 1   UEN Black Listed             25597 non-null  int64         \n",
      " 2   SSIC                         25597 non-null  int64         \n",
      " 3   Industry                     25597 non-null  object        \n",
      " 4   Loan ID                      25597 non-null  int64         \n",
      " 5   Product                      25597 non-null  int64         \n",
      " 6   Amount                       25597 non-null  float64       \n",
      " 7   Disbursal Amount             25597 non-null  float64       \n",
      " 8   Insured                      25597 non-null  int64         \n",
      " 9   Disbursal Fee                25597 non-null  float64       \n",
      " 10  Payment Amount               25597 non-null  float64       \n",
      " 11  Due Date                     25597 non-null  datetime64[ns]\n",
      " 12  Weekday                      25597 non-null  int64         \n",
      " 13  Day                          25597 non-null  int64         \n",
      " 14  Month                        25597 non-null  int64         \n",
      " 15  Year                         25597 non-null  int64         \n",
      " 16  Payment_Num                  25597 non-null  int64         \n",
      " 17  Defaulted                    25597 non-null  int64         \n",
      " 18  Is Paid                      25597 non-null  int64         \n",
      " 19  Loan Status                  25597 non-null  object        \n",
      " 20  Funding Date                 24880 non-null  datetime64[ns]\n",
      " 21  Expected First Payment Date  25597 non-null  datetime64[ns]\n",
      " 22  Interest Rate                25597 non-null  float64       \n",
      " 23  Tenor                        25597 non-null  int64         \n",
      " 24  Status                       25597 non-null  object        \n",
      " 25  Delinquent                   25597 non-null  int64         \n",
      " 26  Delinquent Amount            25597 non-null  float64       \n",
      " 27  Date of First Delinquency    5295 non-null   datetime64[ns]\n",
      " 28  First Payment Date           25597 non-null  datetime64[ns]\n",
      "dtypes: datetime64[ns](5), float64(6), int64(15), object(3)\n",
      "memory usage: 5.7+ MB\n"
     ]
    }
   ],
   "source": [
    "# Checking datatype for each column\n",
    "df.info()"
   ]
  },
  {
   "cell_type": "code",
   "execution_count": 118,
   "id": "707b8e3c",
   "metadata": {},
   "outputs": [
    {
     "data": {
      "text/plain": [
       "ID                                 0\n",
       "UEN Black Listed                   0\n",
       "SSIC                               0\n",
       "Industry                           0\n",
       "Loan ID                            0\n",
       "Product                            0\n",
       "Amount                             0\n",
       "Disbursal Amount                   0\n",
       "Insured                            0\n",
       "Disbursal Fee                      0\n",
       "Payment Amount                     0\n",
       "Due Date                           0\n",
       "Weekday                            0\n",
       "Day                                0\n",
       "Month                              0\n",
       "Year                               0\n",
       "Payment_Num                        0\n",
       "Defaulted                          0\n",
       "Is Paid                            0\n",
       "Loan Status                        0\n",
       "Funding Date                     717\n",
       "Expected First Payment Date        0\n",
       "Interest Rate                      0\n",
       "Tenor                              0\n",
       "Status                             0\n",
       "Delinquent                         0\n",
       "Delinquent Amount                  0\n",
       "Date of First Delinquency      20302\n",
       "First Payment Date                 0\n",
       "dtype: int64"
      ]
     },
     "execution_count": 118,
     "metadata": {},
     "output_type": "execute_result"
    }
   ],
   "source": [
    "# Check for null values\n",
    "df.isnull().sum()"
   ]
  },
  {
   "cell_type": "markdown",
   "id": "bb59b9b3",
   "metadata": {},
   "source": [
    "**Null values are present in \"Funding Date\" and \"Date of First Delinquency\", we need to clean this up.**"
   ]
  },
  {
   "cell_type": "code",
   "execution_count": 119,
   "id": "8a848cd7",
   "metadata": {},
   "outputs": [],
   "source": [
    "# Dropping Partial Applications **Incomplete loan applications\n",
    "df = df[df['Status']!=\"Partial Application\"]\n",
    "\n",
    "# Replace null values to zero\n",
    "df.fillna(0, inplace=True)"
   ]
  },
  {
   "cell_type": "code",
   "execution_count": 120,
   "id": "e9825a58",
   "metadata": {},
   "outputs": [
    {
     "data": {
      "text/plain": [
       "ID                             0\n",
       "UEN Black Listed               0\n",
       "SSIC                           0\n",
       "Industry                       0\n",
       "Loan ID                        0\n",
       "Product                        0\n",
       "Amount                         0\n",
       "Disbursal Amount               0\n",
       "Insured                        0\n",
       "Disbursal Fee                  0\n",
       "Payment Amount                 0\n",
       "Due Date                       0\n",
       "Weekday                        0\n",
       "Day                            0\n",
       "Month                          0\n",
       "Year                           0\n",
       "Payment_Num                    0\n",
       "Defaulted                      0\n",
       "Is Paid                        0\n",
       "Loan Status                    0\n",
       "Funding Date                   0\n",
       "Expected First Payment Date    0\n",
       "Interest Rate                  0\n",
       "Tenor                          0\n",
       "Status                         0\n",
       "Delinquent                     0\n",
       "Delinquent Amount              0\n",
       "Date of First Delinquency      0\n",
       "First Payment Date             0\n",
       "dtype: int64"
      ]
     },
     "execution_count": 120,
     "metadata": {},
     "output_type": "execute_result"
    }
   ],
   "source": [
    "# Check for changes\n",
    "df.isnull().sum()"
   ]
  },
  {
   "cell_type": "code",
   "execution_count": 121,
   "id": "14d228b8",
   "metadata": {},
   "outputs": [],
   "source": [
    "df.to_excel('../data/loans.xlsx',index=False)"
   ]
  },
  {
   "cell_type": "markdown",
   "id": "32dd129a",
   "metadata": {},
   "source": [
    "## Exploratory Data Analysis"
   ]
  },
  {
   "cell_type": "code",
   "execution_count": 9,
   "id": "a445a7b0",
   "metadata": {},
   "outputs": [],
   "source": [
    "#sns.pairplot(df, hue='Defaulted', corner=True);"
   ]
  },
  {
   "cell_type": "code",
   "execution_count": 10,
   "id": "23bb74b4",
   "metadata": {},
   "outputs": [],
   "source": [
    "#sns.pairplot(df[df['Defaulted']==1], corner=True);"
   ]
  },
  {
   "cell_type": "code",
   "execution_count": 11,
   "id": "2b04feea",
   "metadata": {},
   "outputs": [],
   "source": [
    "#sns.pairplot(df[df['Defaulted']==0], corner=True);"
   ]
  },
  {
   "cell_type": "code",
   "execution_count": 122,
   "id": "9e8437fd",
   "metadata": {},
   "outputs": [
    {
     "data": {
      "text/plain": [
       "0    20927\n",
       "1     3953\n",
       "Name: Defaulted, dtype: int64"
      ]
     },
     "execution_count": 122,
     "metadata": {},
     "output_type": "execute_result"
    }
   ],
   "source": [
    "df['Defaulted'].value_counts()"
   ]
  },
  {
   "cell_type": "code",
   "execution_count": 131,
   "id": "a0648304",
   "metadata": {},
   "outputs": [
    {
     "data": {
      "image/png": "[encoded data removed]",
      "text/plain": [
       "<Figure size 432x288 with 1 Axes>"
      ]
     },
     "metadata": {
      "needs_background": "light"
     },
     "output_type": "display_data"
    }
   ],
   "source": [
    "chart = sns.countplot(x=df['Defaulted'])\n",
    "\n",
    "chart.set_xticklabels(['No','Yes'])\n",
    "plt.title(\"Imbalance Check\")\n",
    "plt.show()"
   ]
  },
  {
   "cell_type": "code",
   "execution_count": null,
   "id": "fb3d8941",
   "metadata": {},
   "outputs": [],
   "source": []
  },
  {
   "cell_type": "markdown",
   "id": "a9ec981a",
   "metadata": {},
   "source": [
    "## Dealing with Imbalance"
   ]
  },
  {
   "cell_type": "markdown",
   "id": "eb5cb86b",
   "metadata": {},
   "source": [
    "### Under-Sampling"
   ]
  },
  {
   "cell_type": "code",
   "execution_count": 159,
   "id": "9ebe6386",
   "metadata": {},
   "outputs": [
    {
     "name": "stdout",
     "output_type": "stream",
     "text": [
      "class 0: (20927, 29)\n",
      "class 1: (3953, 29)\n"
     ]
    }
   ],
   "source": [
    "# class count\n",
    "class_count_0, class_count_1 = df['Defaulted'].value_counts()\n",
    "\n",
    "# Separate class\n",
    "class_0 = df[df['Defaulted'] == 0]\n",
    "class_1 = df[df['Defaulted'] == 1]# print the shape of the class\n",
    "\n",
    "print('class 0:', class_0.shape)\n",
    "print('class 1:', class_1.shape)"
   ]
  },
  {
   "cell_type": "code",
   "execution_count": 160,
   "id": "26ba771a",
   "metadata": {},
   "outputs": [
    {
     "name": "stdout",
     "output_type": "stream",
     "text": [
      "total class of 1 and 0:\n",
      "0    3953\n",
      "1    3953\n",
      "Name: Defaulted, dtype: int64\n"
     ]
    },
    {
     "data": {
      "image/png": "[encoded data removed]",
      "text/plain": [
       "<Figure size 432x288 with 1 Axes>"
      ]
     },
     "metadata": {
      "needs_background": "light"
     },
     "output_type": "display_data"
    }
   ],
   "source": [
    "class_0_under = class_0.sample(class_count_1)\n",
    "\n",
    "test_under = pd.concat([class_0_under, class_1], axis=0)\n",
    "\n",
    "print(\"total class of 1 and 0:\")\n",
    "print(test_under['Defaulted'].value_counts())# plot the count after under-sampeling\n",
    "\n",
    "test_under['Defaulted'].value_counts().plot(kind='bar', title='Under-Sampling');"
   ]
  },
  {
   "cell_type": "code",
   "execution_count": 145,
   "id": "1fe96bf6",
   "metadata": {},
   "outputs": [],
   "source": [
    "test_under.to_excel('../data/loans_undersampling.xlsx',index=False)"
   ]
  },
  {
   "cell_type": "markdown",
   "id": "b80ab339",
   "metadata": {},
   "source": [
    "## Random Over-Sampling"
   ]
  },
  {
   "cell_type": "code",
   "execution_count": 164,
   "id": "7e912580",
   "metadata": {},
   "outputs": [],
   "source": [
    "from sklearn.datasets import make_classification\n",
    "from imblearn.over_sampling import RandomOverSampler\n",
    "from imblearn.under_sampling import RandomUnderSampler\n",
    "from collections import Counter"
   ]
  },
  {
   "cell_type": "code",
   "execution_count": 165,
   "id": "54a6735c",
   "metadata": {},
   "outputs": [
    {
     "name": "stdout",
     "output_type": "stream",
     "text": [
      "class 0: (20927, 29)\n",
      "class 1: (3953, 29)\n"
     ]
    }
   ],
   "source": [
    "# class count\n",
    "class_count_0, class_count_1 = df['Defaulted'].value_counts()\n",
    "\n",
    "# Separate class\n",
    "class_0 = df[df['Defaulted'] == 0]\n",
    "class_1 = df[df['Defaulted'] == 1]# print the shape of the class\n",
    "\n",
    "print('class 0:', class_0.shape)\n",
    "print('class 1:', class_1.shape)"
   ]
  },
  {
   "cell_type": "code",
   "execution_count": null,
   "id": "ba51fb58",
   "metadata": {},
   "outputs": [],
   "source": [
    "# instantiating the random over sampler \n",
    "ros = RandomOverSampler()\n",
    "# resampling X, y\n",
    "X_ros, y_ros = ros.fit_resample(X, y)"
   ]
  },
  {
   "cell_type": "code",
   "execution_count": null,
   "id": "0d325f50",
   "metadata": {},
   "outputs": [],
   "source": []
  }
 ],
 "metadata": {
  "kernelspec": {
   "display_name": "Python 3",
   "language": "python",
   "name": "python3"
  },
  "language_info": {
   "codemirror_mode": {
    "name": "ipython",
    "version": 3
   },
   "file_extension": ".py",
   "mimetype": "text/x-python",
   "name": "python",
   "nbconvert_exporter": "python",
   "pygments_lexer": "ipython3",
   "version": "3.8.8"
  }
 },
 "nbformat": 4,
 "nbformat_minor": 5
}
